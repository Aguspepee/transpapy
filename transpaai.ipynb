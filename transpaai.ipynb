{
  "cells": [
    {
      "cell_type": "code",
      "execution_count": 10,
      "metadata": {
        "id": "LVeg_Wkqvc5-"
      },
      "outputs": [],
      "source": [
        "import tensorflow as tf\n",
        "from tensorflow import keras\n",
        "from tensorflow.keras import layers\n",
        "import numpy as np"
      ]
    },
    {
      "cell_type": "code",
      "execution_count": 11,
      "metadata": {
        "colab": {
          "base_uri": "https://localhost:8080/"
        },
        "id": "Kg7KKT-nwSzQ",
        "outputId": "e312382b-4884-42f7-c4d4-70f8e37455a5"
      },
      "outputs": [],
      "source": [
        "# load the train and test datasets\n",
        "train_data = []\n",
        "train_labels = []\n",
        "with open(\"indisp.txt\", encoding=\"utf8\") as f:\n",
        "    for line in f:\n",
        "        label, sentence = line.strip().split(\";\")\n",
        "        train_data.append(sentence)\n",
        "        try: train_labels.append(int(label))\n",
        "        except: train_labels.append(0)\n",
        "        \n",
        "\n",
        "test_data = []\n",
        "test_labels = []\n",
        "with open(\"indisp.txt\", encoding=\"utf8\") as f:\n",
        "    for line in f:\n",
        "        label, sentence = line.strip().split(\";\")\n",
        "        test_data.append(sentence)\n",
        "        try: test_labels.append(int(label))\n",
        "        except: test_labels.append(0)"
      ]
    },
    {
      "cell_type": "code",
      "execution_count": 12,
      "metadata": {
        "id": "_KZ804RJbuKr"
      },
      "outputs": [],
      "source": [
        "data = []\n",
        "labels = []\n",
        "with open(\"indisp.txt\", encoding=\"utf8\") as f:\n",
        "    for line in f:\n",
        "        label, sentence = line.strip().split(\";\")\n",
        "        data.append(sentence)\n",
        "        try: labels.append(int(label))\n",
        "        except: labels.append(0)\n",
        "\n",
        "#train_ds, test_ds = tf.load('mnist', split=['train', 'test[:50%]'])"
      ]
    },
    {
      "cell_type": "code",
      "execution_count": 13,
      "metadata": {
        "colab": {
          "base_uri": "https://localhost:8080/"
        },
        "id": "fGlg-Zc9w8bY",
        "outputId": "db639d56-3162-4a6b-96e5-7f3a5327f135"
      },
      "outputs": [],
      "source": [
        "# convert the data to numerical tensors\n",
        "tokenizer = keras.preprocessing.text.Tokenizer(num_words=10000)\n",
        "tokenizer.fit_on_texts(train_data)\n",
        "\n",
        "x_train = tokenizer.texts_to_sequences(train_data)\n",
        "x_train = keras.preprocessing.sequence.pad_sequences(x_train, maxlen=16)\n",
        "y_train = train_labels\n",
        "\n",
        "x_test = tokenizer.texts_to_sequences(test_data)\n",
        "x_test = keras.preprocessing.sequence.pad_sequences(x_test, maxlen=16)\n",
        "y_test = test_labels\n",
        "\n",
        "\n",
        "# build the model\n",
        "model = keras.Sequential()\n",
        "model.add(layers.Embedding(10000, 16))\n",
        "model.add(layers.GlobalAveragePooling1D())\n",
        "model.add(layers.Dense(12, activation=\"softmax\"))\n"
      ]
    },
    {
      "cell_type": "code",
      "execution_count": 14,
      "metadata": {
        "id": "o5D6bsRLxDC4"
      },
      "outputs": [],
      "source": [
        "# compile the model\n",
        "model.compile(\n",
        "    optimizer=keras.optimizers.Adam(),\n",
        "    loss=keras.losses.SparseCategoricalCrossentropy(),\n",
        "    metrics=[\"accuracy\"],\n",
        ")"
      ]
    },
    {
      "cell_type": "code",
      "execution_count": 15,
      "metadata": {
        "colab": {
          "base_uri": "https://localhost:8080/"
        },
        "id": "VbeFaK3OxiLW",
        "outputId": "5cb80f8a-587a-4271-c833-f9a1e8d16669"
      },
      "outputs": [],
      "source": [
        "y_train = np.array(y_train)\n",
        "y_test = np.array(y_test)"
      ]
    },
    {
      "cell_type": "code",
      "execution_count": 16,
      "metadata": {
        "colab": {
          "base_uri": "https://localhost:8080/"
        },
        "id": "dfBwORKox2OA",
        "outputId": "2e8128ff-add1-4493-b089-aae3485b36e0"
      },
      "outputs": [
        {
          "name": "stdout",
          "output_type": "stream",
          "text": [
            "Epoch 1/100\n",
            "19/19 [==============================] - 0s 4ms/step - loss: 2.4428 - accuracy: 0.4004\n",
            "Epoch 2/100\n",
            "19/19 [==============================] - 0s 4ms/step - loss: 2.3594 - accuracy: 0.5946\n",
            "Epoch 3/100\n",
            "19/19 [==============================] - 0s 4ms/step - loss: 2.2667 - accuracy: 0.5950\n",
            "Epoch 4/100\n",
            "19/19 [==============================] - 0s 4ms/step - loss: 2.1588 - accuracy: 0.5955\n",
            "Epoch 5/100\n",
            "19/19 [==============================] - 0s 4ms/step - loss: 2.0344 - accuracy: 0.5954\n",
            "Epoch 6/100\n",
            "19/19 [==============================] - 0s 3ms/step - loss: 1.8977 - accuracy: 0.5954\n",
            "Epoch 7/100\n",
            "19/19 [==============================] - 0s 3ms/step - loss: 1.7551 - accuracy: 0.5955\n",
            "Epoch 8/100\n",
            "19/19 [==============================] - 0s 3ms/step - loss: 1.6166 - accuracy: 0.5949\n",
            "Epoch 9/100\n",
            "19/19 [==============================] - 0s 3ms/step - loss: 1.4909 - accuracy: 0.5952\n",
            "Epoch 10/100\n",
            "19/19 [==============================] - 0s 3ms/step - loss: 1.3841 - accuracy: 0.5957\n",
            "Epoch 11/100\n",
            "19/19 [==============================] - 0s 3ms/step - loss: 1.2983 - accuracy: 0.5967\n",
            "Epoch 12/100\n",
            "19/19 [==============================] - 0s 3ms/step - loss: 1.2311 - accuracy: 0.5977\n",
            "Epoch 13/100\n",
            "19/19 [==============================] - 0s 3ms/step - loss: 1.1791 - accuracy: 0.5983\n",
            "Epoch 14/100\n",
            "19/19 [==============================] - 0s 3ms/step - loss: 1.1378 - accuracy: 0.5989\n",
            "Epoch 15/100\n",
            "19/19 [==============================] - 0s 3ms/step - loss: 1.1031 - accuracy: 0.6000\n",
            "Epoch 16/100\n",
            "19/19 [==============================] - 0s 3ms/step - loss: 1.0728 - accuracy: 0.6022\n",
            "Epoch 17/100\n",
            "19/19 [==============================] - 0s 3ms/step - loss: 1.0450 - accuracy: 0.6038\n",
            "Epoch 18/100\n",
            "19/19 [==============================] - 0s 3ms/step - loss: 1.0187 - accuracy: 0.6069\n",
            "Epoch 19/100\n",
            "19/19 [==============================] - 0s 3ms/step - loss: 0.9935 - accuracy: 0.6084\n",
            "Epoch 20/100\n",
            "19/19 [==============================] - 0s 3ms/step - loss: 0.9689 - accuracy: 0.6099\n",
            "Epoch 21/100\n",
            "19/19 [==============================] - 0s 3ms/step - loss: 0.9445 - accuracy: 0.6127\n",
            "Epoch 22/100\n",
            "19/19 [==============================] - 0s 3ms/step - loss: 0.9204 - accuracy: 0.6139\n",
            "Epoch 23/100\n",
            "19/19 [==============================] - 0s 3ms/step - loss: 0.8966 - accuracy: 0.6147\n",
            "Epoch 24/100\n",
            "19/19 [==============================] - 0s 3ms/step - loss: 0.8725 - accuracy: 0.6175\n",
            "Epoch 25/100\n",
            "19/19 [==============================] - 0s 3ms/step - loss: 0.8486 - accuracy: 0.6185\n",
            "Epoch 26/100\n",
            "19/19 [==============================] - 0s 3ms/step - loss: 0.8248 - accuracy: 0.6195\n",
            "Epoch 27/100\n",
            "19/19 [==============================] - 0s 3ms/step - loss: 0.8010 - accuracy: 0.6215\n",
            "Epoch 28/100\n",
            "19/19 [==============================] - 0s 3ms/step - loss: 0.7772 - accuracy: 0.6224\n",
            "Epoch 29/100\n",
            "19/19 [==============================] - 0s 4ms/step - loss: 0.7536 - accuracy: 0.7365\n",
            "Epoch 30/100\n",
            "19/19 [==============================] - 0s 4ms/step - loss: 0.7303 - accuracy: 0.8033\n",
            "Epoch 31/100\n",
            "19/19 [==============================] - 0s 3ms/step - loss: 0.7074 - accuracy: 0.8042\n",
            "Epoch 32/100\n",
            "19/19 [==============================] - 0s 3ms/step - loss: 0.6847 - accuracy: 0.8052\n",
            "Epoch 33/100\n",
            "19/19 [==============================] - 0s 3ms/step - loss: 0.6627 - accuracy: 0.8070\n",
            "Epoch 34/100\n",
            "19/19 [==============================] - 0s 4ms/step - loss: 0.6412 - accuracy: 0.8175\n",
            "Epoch 35/100\n",
            "19/19 [==============================] - 0s 3ms/step - loss: 0.6203 - accuracy: 0.8198\n",
            "Epoch 36/100\n",
            "19/19 [==============================] - 0s 3ms/step - loss: 0.6002 - accuracy: 0.8344\n",
            "Epoch 37/100\n",
            "19/19 [==============================] - 0s 3ms/step - loss: 0.5808 - accuracy: 0.9009\n",
            "Epoch 38/100\n",
            "19/19 [==============================] - 0s 4ms/step - loss: 0.5621 - accuracy: 0.9095\n",
            "Epoch 39/100\n",
            "19/19 [==============================] - 0s 3ms/step - loss: 0.5443 - accuracy: 0.9110\n",
            "Epoch 40/100\n",
            "19/19 [==============================] - 0s 3ms/step - loss: 0.5273 - accuracy: 0.9127\n",
            "Epoch 41/100\n",
            "19/19 [==============================] - 0s 3ms/step - loss: 0.5110 - accuracy: 0.9132\n",
            "Epoch 42/100\n",
            "19/19 [==============================] - 0s 4ms/step - loss: 0.4955 - accuracy: 0.9144\n",
            "Epoch 43/100\n",
            "19/19 [==============================] - 0s 3ms/step - loss: 0.4808 - accuracy: 0.9167\n",
            "Epoch 44/100\n",
            "19/19 [==============================] - 0s 3ms/step - loss: 0.4669 - accuracy: 0.9175\n",
            "Epoch 45/100\n",
            "19/19 [==============================] - 0s 3ms/step - loss: 0.4536 - accuracy: 0.9194\n",
            "Epoch 46/100\n",
            "19/19 [==============================] - 0s 3ms/step - loss: 0.4411 - accuracy: 0.9200\n",
            "Epoch 47/100\n",
            "19/19 [==============================] - 0s 3ms/step - loss: 0.4292 - accuracy: 0.9205\n",
            "Epoch 48/100\n",
            "19/19 [==============================] - 0s 3ms/step - loss: 0.4180 - accuracy: 0.9209\n",
            "Epoch 49/100\n",
            "19/19 [==============================] - 0s 3ms/step - loss: 0.4075 - accuracy: 0.9219\n",
            "Epoch 50/100\n",
            "19/19 [==============================] - 0s 3ms/step - loss: 0.3975 - accuracy: 0.9227\n",
            "Epoch 51/100\n",
            "19/19 [==============================] - 0s 3ms/step - loss: 0.3880 - accuracy: 0.9230\n",
            "Epoch 52/100\n",
            "19/19 [==============================] - 0s 3ms/step - loss: 0.3791 - accuracy: 0.9240\n",
            "Epoch 53/100\n",
            "19/19 [==============================] - 0s 3ms/step - loss: 0.3707 - accuracy: 0.9250\n",
            "Epoch 54/100\n",
            "19/19 [==============================] - 0s 3ms/step - loss: 0.3627 - accuracy: 0.9256\n",
            "Epoch 55/100\n",
            "19/19 [==============================] - 0s 3ms/step - loss: 0.3552 - accuracy: 0.9268\n",
            "Epoch 56/100\n",
            "19/19 [==============================] - 0s 3ms/step - loss: 0.3480 - accuracy: 0.9297\n",
            "Epoch 57/100\n",
            "19/19 [==============================] - 0s 3ms/step - loss: 0.3413 - accuracy: 0.9298\n",
            "Epoch 58/100\n",
            "19/19 [==============================] - 0s 3ms/step - loss: 0.3349 - accuracy: 0.9301\n",
            "Epoch 59/100\n",
            "19/19 [==============================] - 0s 3ms/step - loss: 0.3289 - accuracy: 0.9305\n",
            "Epoch 60/100\n",
            "19/19 [==============================] - 0s 3ms/step - loss: 0.3232 - accuracy: 0.9305\n",
            "Epoch 61/100\n",
            "19/19 [==============================] - 0s 3ms/step - loss: 0.3178 - accuracy: 0.9313\n",
            "Epoch 62/100\n",
            "19/19 [==============================] - 0s 3ms/step - loss: 0.3125 - accuracy: 0.9316\n",
            "Epoch 63/100\n",
            "19/19 [==============================] - 0s 3ms/step - loss: 0.3076 - accuracy: 0.9322\n",
            "Epoch 64/100\n",
            "19/19 [==============================] - 0s 3ms/step - loss: 0.3029 - accuracy: 0.9324\n",
            "Epoch 65/100\n",
            "19/19 [==============================] - 0s 3ms/step - loss: 0.2984 - accuracy: 0.9331\n",
            "Epoch 66/100\n",
            "19/19 [==============================] - 0s 3ms/step - loss: 0.2941 - accuracy: 0.9337\n",
            "Epoch 67/100\n",
            "19/19 [==============================] - 0s 3ms/step - loss: 0.2900 - accuracy: 0.9341\n",
            "Epoch 68/100\n",
            "19/19 [==============================] - 0s 3ms/step - loss: 0.2861 - accuracy: 0.9343\n",
            "Epoch 69/100\n",
            "19/19 [==============================] - 0s 3ms/step - loss: 0.2822 - accuracy: 0.9345\n",
            "Epoch 70/100\n",
            "19/19 [==============================] - 0s 3ms/step - loss: 0.2786 - accuracy: 0.9351\n",
            "Epoch 71/100\n",
            "19/19 [==============================] - 0s 3ms/step - loss: 0.2751 - accuracy: 0.9355\n",
            "Epoch 72/100\n",
            "19/19 [==============================] - 0s 3ms/step - loss: 0.2718 - accuracy: 0.9365\n",
            "Epoch 73/100\n",
            "19/19 [==============================] - 0s 3ms/step - loss: 0.2686 - accuracy: 0.9367\n",
            "Epoch 74/100\n",
            "19/19 [==============================] - 0s 3ms/step - loss: 0.2655 - accuracy: 0.9368\n",
            "Epoch 75/100\n",
            "19/19 [==============================] - 0s 3ms/step - loss: 0.2625 - accuracy: 0.9373\n",
            "Epoch 76/100\n",
            "19/19 [==============================] - 0s 3ms/step - loss: 0.2597 - accuracy: 0.9373\n",
            "Epoch 77/100\n",
            "19/19 [==============================] - 0s 3ms/step - loss: 0.2569 - accuracy: 0.9375\n",
            "Epoch 78/100\n",
            "19/19 [==============================] - 0s 3ms/step - loss: 0.2542 - accuracy: 0.9382\n",
            "Epoch 79/100\n",
            "19/19 [==============================] - 0s 3ms/step - loss: 0.2516 - accuracy: 0.9382\n",
            "Epoch 80/100\n",
            "19/19 [==============================] - 0s 3ms/step - loss: 0.2491 - accuracy: 0.9388\n",
            "Epoch 81/100\n",
            "19/19 [==============================] - 0s 4ms/step - loss: 0.2467 - accuracy: 0.9392\n",
            "Epoch 82/100\n",
            "19/19 [==============================] - 0s 3ms/step - loss: 0.2443 - accuracy: 0.9394\n",
            "Epoch 83/100\n",
            "19/19 [==============================] - 0s 3ms/step - loss: 0.2420 - accuracy: 0.9400\n",
            "Epoch 84/100\n",
            "19/19 [==============================] - 0s 3ms/step - loss: 0.2398 - accuracy: 0.9404\n",
            "Epoch 85/100\n",
            "19/19 [==============================] - 0s 3ms/step - loss: 0.2377 - accuracy: 0.9407\n",
            "Epoch 86/100\n",
            "19/19 [==============================] - 0s 3ms/step - loss: 0.2355 - accuracy: 0.9407\n",
            "Epoch 87/100\n",
            "19/19 [==============================] - 0s 3ms/step - loss: 0.2335 - accuracy: 0.9414\n",
            "Epoch 88/100\n",
            "19/19 [==============================] - 0s 3ms/step - loss: 0.2315 - accuracy: 0.9421\n",
            "Epoch 89/100\n",
            "19/19 [==============================] - 0s 3ms/step - loss: 0.2296 - accuracy: 0.9422\n",
            "Epoch 90/100\n",
            "19/19 [==============================] - 0s 3ms/step - loss: 0.2277 - accuracy: 0.9422\n",
            "Epoch 91/100\n",
            "19/19 [==============================] - 0s 3ms/step - loss: 0.2260 - accuracy: 0.9425\n",
            "Epoch 92/100\n",
            "19/19 [==============================] - 0s 3ms/step - loss: 0.2242 - accuracy: 0.9430\n",
            "Epoch 93/100\n",
            "19/19 [==============================] - 0s 3ms/step - loss: 0.2225 - accuracy: 0.9434\n",
            "Epoch 94/100\n",
            "19/19 [==============================] - 0s 3ms/step - loss: 0.2208 - accuracy: 0.9436\n",
            "Epoch 95/100\n",
            "19/19 [==============================] - 0s 3ms/step - loss: 0.2192 - accuracy: 0.9442\n",
            "Epoch 96/100\n",
            "19/19 [==============================] - 0s 3ms/step - loss: 0.2175 - accuracy: 0.9446\n",
            "Epoch 97/100\n",
            "19/19 [==============================] - 0s 3ms/step - loss: 0.2159 - accuracy: 0.9471\n",
            "Epoch 98/100\n",
            "19/19 [==============================] - 0s 3ms/step - loss: 0.2144 - accuracy: 0.9479\n",
            "Epoch 99/100\n",
            "19/19 [==============================] - 0s 4ms/step - loss: 0.2129 - accuracy: 0.9480\n",
            "Epoch 100/100\n",
            "19/19 [==============================] - 0s 3ms/step - loss: 0.2114 - accuracy: 0.9482\n"
          ]
        },
        {
          "data": {
            "text/plain": [
              "<keras.callbacks.History at 0x192e03d6850>"
            ]
          },
          "execution_count": 16,
          "metadata": {},
          "output_type": "execute_result"
        }
      ],
      "source": [
        "# train the model\n",
        "model.fit(x_train, y_train, epochs=100, batch_size=512)"
      ]
    },
    {
      "cell_type": "code",
      "execution_count": 17,
      "metadata": {
        "colab": {
          "base_uri": "https://localhost:8080/"
        },
        "id": "O2htNKdazlv5",
        "outputId": "a27f9f17-d081-497d-9d19-934f07c43868"
      },
      "outputs": [
        {
          "name": "stdout",
          "output_type": "stream",
          "text": [
            "292/292 [==============================] - 1s 2ms/step - loss: 0.2105 - accuracy: 0.9483\n",
            "Accuracy: 0.95\n"
          ]
        }
      ],
      "source": [
        "# evaluate the model\n",
        "_, accuracy = model.evaluate(x_test, y_test)\n",
        "print(\"Accuracy: {:.2f}\".format(accuracy))"
      ]
    },
    {
      "cell_type": "code",
      "execution_count": 18,
      "metadata": {
        "colab": {
          "base_uri": "https://localhost:8080/"
        },
        "id": "l-IKfCpxz0ks",
        "outputId": "f52f190b-f656-41c4-d57e-914b62805e41"
      },
      "outputs": [
        {
          "name": "stdout",
          "output_type": "stream",
          "text": [
            "[[  0   0   0   0   0   0   0   0   0   0   8   7 163   6  97  26]]\n",
            "1/1 [==============================] - 0s 34ms/step\n",
            "[[0.07938111 0.21926917 0.13943271 0.36436048 0.08224662 0.03302127\n",
            "  0.02651796 0.01545861 0.00925102 0.01100839 0.01028398 0.00976873]]\n"
          ]
        }
      ],
      "source": [
        "palabra_prueba = tokenizer.texts_to_sequences([\"FALLA EN INSTALACIONES DE TERCEROS (13)\"])\n",
        "palabra_prueba = keras.preprocessing.sequence.pad_sequences(palabra_prueba, maxlen=16)\n",
        "print(palabra_prueba)\n",
        "\n",
        "print(model.predict([palabra_prueba]))"
      ]
    }
  ],
  "metadata": {
    "colab": {
      "provenance": []
    },
    "kernelspec": {
      "display_name": "tf",
      "language": "python",
      "name": "python3"
    },
    "language_info": {
      "codemirror_mode": {
        "name": "ipython",
        "version": 3
      },
      "file_extension": ".py",
      "mimetype": "text/x-python",
      "name": "python",
      "nbconvert_exporter": "python",
      "pygments_lexer": "ipython3",
      "version": "3.9.15 (main, Nov 24 2022, 14:39:17) [MSC v.1916 64 bit (AMD64)]"
    },
    "vscode": {
      "interpreter": {
        "hash": "dba528cfb26655daf342e94255a361b69fd823f42ce8dc526e050ab805f31cfc"
      }
    }
  },
  "nbformat": 4,
  "nbformat_minor": 0
}
